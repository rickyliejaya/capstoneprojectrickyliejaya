{
 "cells": [
  {
   "cell_type": "code",
   "execution_count": 1,
   "metadata": {},
   "outputs": [
    {
     "data": {
      "text/plain": [
       "b'\\n<!DOCTYPE html>\\r\\n<!--[if lt IE 9]>\\r\\n    <html class=\"no-js ie8 oldie\" lang=\\'en\\' xml:lang=\\'en\\'>\\r\\n<![endif]-->\\r\\n<!--[if gt IE 8]><!--> <html class=\"no-js\" lang=\\'en\\' xml:lang=\\'en\\'> <!--<![endif]-->\\r\\n<head><title>Indonesian Rupiah Exchange Rate - US Dollar - Historical Exchange Rates</title>\\n<meta http-equiv=\"X-UA-Compatible\" content=\"IE=edge\">\\n<meta content=\"C#\" name=\"CODE_LANGUAGE\" />\\n<meta content=\"JavaScript\" name=\"vs_defaultClientScript\" />\\n<meta content=\"http://schemas.microsoft.com/intellisense/ie5\" name=\"vs_targetSchema\" />\\n<meta name=\"viewport\" content=\"width=device-width, initial-scale=1, maximum-scale=5\">\\n<meta http-equiv=\"Content-Type\" content=\"text/html; charset=utf-8\" />\\n\\n<meta name=\"mapping\" content=\"AP\" />\\n<base href=\"https://www.exchange-rates.org/\" />\\n<link rel=\"dns-prefetch\" href=\"https://ajax.googleapis.com/\" />\\r\\n<link rel=\"dns-prefetch\" href=\"https://www.google-analytics.com/\" />\\r\\n<link rel=\"preload\" href=\"https://dol8qrceshfrq.cloudfront.net/cache/2020-03-18-01-05-5'"
      ]
     },
     "execution_count": 1,
     "metadata": {},
     "output_type": "execute_result"
    }
   ],
   "source": [
    "import requests\n",
    "\n",
    "url_get = requests.get('https://www.exchange-rates.org/history/IDR/USD/T')\n",
    "url_get.content[1:1000]"
   ]
  },
  {
   "cell_type": "code",
   "execution_count": 2,
   "metadata": {},
   "outputs": [
    {
     "name": "stdout",
     "output_type": "stream",
     "text": [
      "<class 'bs4.BeautifulSoup'>\n"
     ]
    }
   ],
   "source": [
    "from bs4 import BeautifulSoup \n",
    "\n",
    "soup = BeautifulSoup(url_get.content,\"html.parser\")\n",
    "print(type(soup))"
   ]
  },
  {
   "cell_type": "code",
   "execution_count": 3,
   "metadata": {},
   "outputs": [
    {
     "name": "stdout",
     "output_type": "stream",
     "text": [
      "<!DOCTYPE html>\n",
      "<!--[if lt IE 9]>\n",
      "    <html class=\"no-js ie8 oldie\" lang='en' xml:lang='en'>\n",
      "<![endif]-->\n",
      "<!--[if gt IE 8]><!-->\n",
      "<html class=\"no-js\" lang=\"en\" xml:lang=\"en\">\n",
      " <!--<![endif]-->\n",
      " <head>\n",
      "  <title>\n",
      "   Indonesian Rupiah Exchange Rate - US Dollar - Historical Exchange Rates\n",
      "  </title>\n",
      "  <meta content=\"IE=edge\" http-equiv=\"X-UA-Compatible\"/>\n",
      "  <meta content=\"C#\" name=\"CODE_LANGUAGE\">\n",
      "   <meta content=\"JavaScript\" name=\"vs_defaultClientScript\"/>\n",
      "   <meta content=\"http://schemas.microsoft.com/intellisense/ie5\" name=\"vs_targetSchema\"/>\n",
      "   <meta content=\"width=device-width, initial-scale=1, maximum-scale=5\" name=\"viewport\"/>\n",
      "   <meta content=\"text/html; charset=utf-8\" http-equiv=\"Content-Type\">\n",
      "    <meta content=\"AP\" name=\"mapping\"/>\n",
      "    <base href=\"https://www.exchange-rates.org/\"/>\n",
      "    <link href=\"https://ajax.googleapis.com/\" rel=\"dns-prefetch\"/>\n",
      "    <link href=\"https://www.google-analytics.com/\" rel=\"dns-prefetch\"/>\n",
      "    <link as=\"image\" href=\"https://dol8qrceshfrq.cloudfront.net/cache/2020-03-18-01-05-58/img/bgr-pattern.png\" rel=\"preload\" type=\"image/png\"/>\n",
      "    <link as=\"image\" href=\"https://dol8qrceshfrq.cloudfront.net/cache/2020-03-18-01-05-58/img/logo.svg\" rel=\"preload\" type=\"image/svg+xml\"/>\n",
      "    <link as=\"image\" href=\"https://dol8qrceshfrq.cloudfront.net/cache/2020-03-18-01-05-58/img/logo-footer.svg\" rel=\"preload\" type=\"image/svg+xml\"/>\n",
      "    <link href=\"https://www.exchange-rates.org/history/IDR/USD/T\" rel=\"canonical\">\n",
      "     <link href=\"https://dol8qrceshfrq.cloudfront.net/cache/2020-03-18-01-05-58/img/favicon.ico\" rel=\"shortcut icon\" type=\"image/x-icon\"/>\n",
      "     <link href=\"https://dol8qrceshfrq.cloudfront.net/cache/2020-03-18-01-05-58/img/favicon.ico\" rel=\"icon\" type=\"image/x-icon\"/>\n",
      "     <!--[if lt IE 9]>\n",
      "<![endif]-->\n",
      "     <style type=\"text/css\">\n",
      "      /* 00-bootstrap-cleaned.css */\n",
      "article,aside,details,figcaption,figure,footer,header,hgroup,main,nav,section,summary{display:block}a{background:0 0}a:active,a:hover{outline:0}b,strong{font-weight:700}h1{font-size:2em;margin:.67em 0}img{border:0}svg:not(:root){overflow:hidden}p{margin:0 0 10px}pre{display:block;padding:9.5px;margin:0 0 10px;font-size:13px;line-height:1.428571429;word-break:break-all;word-wrap:break-word;color:#333;background-color:#f5f5f5;border:1px solid #ccc;border-radius:4px}pre code{padding:0;font-size:inherit;color:inherit;white-space:pre-wrap;background-color:transparent;border-radius:0}button,input,optgroup,select,textarea{color:inherit;font:inherit;margin:0}button{overflow:visible}button,select{text-transform:none}button,html input[type=button],input[type=reset],input[type=submit]{-webkit-appearance:button;cursor:pointer}input{line-height:normal}table{border-collapse:collapse;border-spacing:0}td,th{padding:0}*{-webkit-box-sizing:border-box;-moz-box-sizing:border-box;box-sizing:border-box}:after,:before{-webkit-box-sizing:border-box;-moz-box-sizing:border-box;box-sizing:border-box}button,input,select,textarea{font-family:inherit;font-size:inherit;line-height:in\n"
     ]
    }
   ],
   "source": [
    "print(soup.prettify()[:3000])"
   ]
  },
  {
   "cell_type": "code",
   "execution_count": 4,
   "metadata": {},
   "outputs": [
    {
     "name": "stdout",
     "output_type": "stream",
     "text": [
      "table class=\"table table-striped table-hover table-hover-solid-row table-simple history-data\">\n",
      " <tbody>\n",
      "  <tr>\n",
      "   <td>\n",
      "    11/26/2020\n",
      "   </td>\n",
      "   <td>\n",
      "    Thursday\n",
      "   </td>\n",
      "   <td>\n",
      "    <a href=\"/Rate/USD/IDR/11-26-2020\">\n",
      "     14,090.70769\n",
      "    </a>\n",
      "    IDR\n",
      "   </td>\n",
      "   <td class=\"text-narrow-screen-hidden\">\n",
      "    <a href=\"/Rate/USD/IDR/11-26-2020\">\n",
      "     USD IDR rate for 11/26/2020\n",
      "    </a>\n",
      "   </td>\n",
      "  </tr>\n",
      "  <tr>\n",
      "   <td>\n",
      "    11/25/2020\n",
      "   </td>\n",
      "   <td>\n",
      "    Wednesday\n",
      "   </td>\n",
      "   <td>\n",
      "    <a href=\"/R\n"
     ]
    }
   ],
   "source": [
    "table = soup.find('table', attrs={'class':'table table-striped table-hover table-hover-solid-row table-simple history-data'})\n",
    "print(table.prettify()[1:500])"
   ]
  },
  {
   "cell_type": "code",
   "execution_count": 5,
   "metadata": {},
   "outputs": [
    {
     "data": {
      "text/plain": [
       "[<tr><td>11/26/2020</td><td>Thursday</td><td><a href=\"/Rate/USD/IDR/11-26-2020\">14,090.70769</a> IDR</td><td class=\"text-narrow-screen-hidden\"><a href=\"/Rate/USD/IDR/11-26-2020\">USD IDR rate for 11/26/2020</a></td></tr>,\n",
       " <tr><td>11/25/2020</td><td>Wednesday</td><td><a href=\"/Rate/USD/IDR/11-25-2020\">14,136.09929</a> IDR</td><td class=\"text-narrow-screen-hidden\"><a href=\"/Rate/USD/IDR/11-25-2020\">USD IDR rate for 11/25/2020</a></td></tr>]"
      ]
     },
     "execution_count": 5,
     "metadata": {},
     "output_type": "execute_result"
    }
   ],
   "source": [
    "tr = table.find_all('tr')\n",
    "tr[:2]"
   ]
  },
  {
   "cell_type": "code",
   "execution_count": 6,
   "metadata": {},
   "outputs": [
    {
     "data": {
      "text/plain": [
       "[('5/31/2020', '14,664.14584 IDR'),\n",
       " ('6/1/2020', '14,586.73900 IDR'),\n",
       " ('6/2/2020', '14,382.27395 IDR'),\n",
       " ('6/3/2020', '14,060.78946 IDR'),\n",
       " ('6/4/2020', '14,113.82802 IDR'),\n",
       " ('6/5/2020', '14,305.96407 IDR'),\n",
       " ('6/7/2020', '13,989.39489 IDR'),\n",
       " ('6/8/2020', '13,867.95377 IDR'),\n",
       " ('6/9/2020', '13,870.75718 IDR'),\n",
       " ('6/10/2020', '13,976.91611 IDR'),\n",
       " ('6/11/2020', '13,966.85142 IDR'),\n",
       " ('6/12/2020', '14,121.55442 IDR'),\n",
       " ('6/14/2020', '14,145.23543 IDR'),\n",
       " ('6/15/2020', '14,021.62200 IDR'),\n",
       " ('6/16/2020', '14,046.73959 IDR'),\n",
       " ('6/17/2020', '14,120.02241 IDR'),\n",
       " ('6/18/2020', '14,095.36729 IDR'),\n",
       " ('6/19/2020', '14,077.63950 IDR'),\n",
       " ('6/21/2020', '14,068.55627 IDR'),\n",
       " ('6/22/2020', '14,136.05128 IDR'),\n",
       " ('6/23/2020', '14,148.27391 IDR'),\n",
       " ('6/24/2020', '14,143.17320 IDR'),\n",
       " ('6/25/2020', '14,130.57047 IDR'),\n",
       " ('6/26/2020', '14,190.21303 IDR'),\n",
       " ('6/28/2020', '14,185.08225 IDR'),\n",
       " ('6/29/2020', '14,183.53912 IDR'),\n",
       " ('6/30/2020', '14,296.90560 IDR'),\n",
       " ('7/1/2020', '14,256.13040 IDR'),\n",
       " ('7/2/2020', '14,378.36972 IDR'),\n",
       " ('7/3/2020', '14,488.65681 IDR'),\n",
       " ('7/5/2020', '14,498.63510 IDR'),\n",
       " ('7/6/2020', '14,289.25101 IDR'),\n",
       " ('7/7/2020', '14,445.31657 IDR'),\n",
       " ('7/8/2020', '14,378.37552 IDR'),\n",
       " ('7/9/2020', '14,343.31797 IDR'),\n",
       " ('7/10/2020', '14,365.25218 IDR'),\n",
       " ('7/12/2020', '14,420.01800 IDR'),\n",
       " ('7/13/2020', '14,390.84796 IDR'),\n",
       " ('7/14/2020', '14,417.89081 IDR'),\n",
       " ('7/15/2020', '14,589.26616 IDR'),\n",
       " ('7/16/2020', '14,564.60810 IDR'),\n",
       " ('7/17/2020', '14,690.05172 IDR'),\n",
       " ('7/20/2020', '14,773.77977 IDR'),\n",
       " ('7/21/2020', '14,679.86959 IDR'),\n",
       " ('7/22/2020', '14,651.65404 IDR'),\n",
       " ('7/23/2020', '14,605.50142 IDR'),\n",
       " ('7/24/2020', '14,568.35458 IDR'),\n",
       " ('7/26/2020', '14,578.95006 IDR'),\n",
       " ('7/27/2020', '14,505.01200 IDR'),\n",
       " ('7/28/2020', '14,572.13548 IDR'),\n",
       " ('7/29/2020', '14,500.86496 IDR'),\n",
       " ('7/30/2020', '14,552.65469 IDR'),\n",
       " ('7/31/2020', '14,640.92152 IDR'),\n",
       " ('8/2/2020', '14,636.91361 IDR'),\n",
       " ('8/3/2020', '14,578.90531 IDR'),\n",
       " ('8/4/2020', '14,535.77574 IDR'),\n",
       " ('8/5/2020', '14,510.27288 IDR'),\n",
       " ('8/6/2020', '14,572.05634 IDR'),\n",
       " ('8/7/2020', '14,606.06472 IDR'),\n",
       " ('8/9/2020', '14,668.96550 IDR'),\n",
       " ('8/10/2020', '14,635.89132 IDR'),\n",
       " ('8/11/2020', '14,683.96263 IDR'),\n",
       " ('8/12/2020', '14,746.93479 IDR'),\n",
       " ('8/13/2020', '14,730.67678 IDR'),\n",
       " ('8/14/2020', '14,755.08179 IDR'),\n",
       " ('8/16/2020', '14,752.59007 IDR'),\n",
       " ('8/17/2020', '14,745.02603 IDR'),\n",
       " ('8/18/2020', '14,840.94794 IDR'),\n",
       " ('8/19/2020', '14,892.13287 IDR'),\n",
       " ('8/20/2020', '14,744.53672 IDR'),\n",
       " ('8/21/2020', '14,779.64056 IDR'),\n",
       " ('8/23/2020', '14,777.76475 IDR'),\n",
       " ('8/24/2020', '14,723.44674 IDR'),\n",
       " ('8/25/2020', '14,634.54337 IDR'),\n",
       " ('8/26/2020', '14,650.54899 IDR'),\n",
       " ('8/27/2020', '14,641.58320 IDR'),\n",
       " ('8/28/2020', '14,624.63146 IDR'),\n",
       " ('8/30/2020', '14,620.74081 IDR'),\n",
       " ('8/31/2020', '14,538.95869 IDR'),\n",
       " ('9/1/2020', '14,657.30327 IDR'),\n",
       " ('9/2/2020', '14,752.83593 IDR'),\n",
       " ('9/3/2020', '14,725.75623 IDR'),\n",
       " ('9/4/2020', '14,755.44144 IDR'),\n",
       " ('9/6/2020', '14,754.95155 IDR'),\n",
       " ('9/7/2020', '14,743.92989 IDR'),\n",
       " ('9/8/2020', '14,839.54267 IDR'),\n",
       " ('9/9/2020', '14,783.50009 IDR'),\n",
       " ('9/10/2020', '14,871.58664 IDR'),\n",
       " ('9/11/2020', '14,865.27553 IDR'),\n",
       " ('9/13/2020', '14,876.45021 IDR'),\n",
       " ('9/14/2020', '14,864.65988 IDR'),\n",
       " ('9/15/2020', '14,843.44670 IDR'),\n",
       " ('9/16/2020', '14,807.88761 IDR'),\n",
       " ('9/17/2020', '14,829.41738 IDR'),\n",
       " ('9/18/2020', '14,730.71792 IDR'),\n",
       " ('9/20/2020', '14,728.84529 IDR'),\n",
       " ('9/21/2020', '14,701.43420 IDR'),\n",
       " ('9/22/2020', '14,751.85786 IDR'),\n",
       " ('9/23/2020', '14,825.54899 IDR'),\n",
       " ('9/24/2020', '14,888.78607 IDR'),\n",
       " ('9/25/2020', '14,855.63943 IDR'),\n",
       " ('9/27/2020', '14,859.98349 IDR'),\n",
       " ('9/28/2020', '14,892.32194 IDR'),\n",
       " ('9/29/2020', '14,880.93210 IDR'),\n",
       " ('9/30/2020', '14,867.44686 IDR'),\n",
       " ('10/1/2020', '14,822.66605 IDR'),\n",
       " ('10/2/2020', '14,852.30483 IDR'),\n",
       " ('10/5/2020', '14,797.90178 IDR'),\n",
       " ('10/6/2020', '14,857.67854 IDR'),\n",
       " ('10/7/2020', '14,705.58246 IDR'),\n",
       " ('10/8/2020', '14,692.93025 IDR'),\n",
       " ('10/9/2020', '14,679.27910 IDR'),\n",
       " ('10/12/2020', '14,677.85296 IDR'),\n",
       " ('10/13/2020', '14,687.35100 IDR'),\n",
       " ('10/14/2020', '14,696.21912 IDR'),\n",
       " ('10/15/2020', '14,667.95340 IDR'),\n",
       " ('10/16/2020', '14,688.43616 IDR'),\n",
       " ('10/19/2020', '14,705.13256 IDR'),\n",
       " ('10/20/2020', '14,555.88071 IDR'),\n",
       " ('10/21/2020', '14,641.61060 IDR'),\n",
       " ('10/22/2020', '14,647.90877 IDR'),\n",
       " ('10/23/2020', '14,655.04157 IDR'),\n",
       " ('10/26/2020', '14,652.88010 IDR'),\n",
       " ('10/27/2020', '14,649.78960 IDR'),\n",
       " ('10/28/2020', '14,701.92586 IDR'),\n",
       " ('10/29/2020', '14,701.62361 IDR'),\n",
       " ('10/30/2020', '14,629.16216 IDR'),\n",
       " ('11/2/2020', '14,612.89990 IDR'),\n",
       " ('11/3/2020', '14,589.01774 IDR'),\n",
       " ('11/4/2020', '14,544.44634 IDR'),\n",
       " ('11/5/2020', '14,389.14027 IDR'),\n",
       " ('11/6/2020', '14,214.49744 IDR'),\n",
       " ('11/9/2020', '14,283.29667 IDR'),\n",
       " ('11/10/2020', '14,053.76135 IDR'),\n",
       " ('11/11/2020', '14,073.46024 IDR'),\n",
       " ('11/12/2020', '14,141.24303 IDR'),\n",
       " ('11/13/2020', '14,142.77143 IDR'),\n",
       " ('11/16/2020', '14,085.69501 IDR'),\n",
       " ('11/17/2020', '14,040.16051 IDR'),\n",
       " ('11/18/2020', '14,051.29503 IDR'),\n",
       " ('11/19/2020', '14,165.50144 IDR'),\n",
       " ('11/20/2020', '14,162.60519 IDR'),\n",
       " ('11/23/2020', '14,185.57119 IDR'),\n",
       " ('11/24/2020', '14,137.48161 IDR'),\n",
       " ('11/25/2020', '14,136.09929 IDR')]"
      ]
     },
     "execution_count": 6,
     "metadata": {},
     "output_type": "execute_result"
    }
   ],
   "source": [
    "kurs = [] \n",
    "\n",
    "for i in range(1, len(tr)):\n",
    "    row = table.find_all('tr')[i]\n",
    "    \n",
    "    #get bulan\n",
    "    period = row.find_all('td')[0].text\n",
    "    period = period.strip() #for removing the excess whitespace\n",
    "    \n",
    "    #get inflasi\n",
    "    harga = row.find_all('td')[2].text\n",
    "    harga = harga.strip() #for removing the excess whitespace\n",
    "    \n",
    "    kurs.append((period,harga)) \n",
    "    \n",
    "kurs = kurs[::-1]\n",
    "kurs"
   ]
  },
  {
   "cell_type": "code",
   "execution_count": 7,
   "metadata": {},
   "outputs": [
    {
     "data": {
      "text/plain": [
       "period    datetime64[ns]\n",
       "harga            float64\n",
       "dtype: object"
      ]
     },
     "execution_count": 7,
     "metadata": {},
     "output_type": "execute_result"
    }
   ],
   "source": [
    "import pandas as pd\n",
    "import numpy as np\n",
    "\n",
    "kurs_rupiah = pd.DataFrame(kurs, columns = ('period','harga'))\n",
    "kurs_rupiah['period'] = kurs_rupiah['period'].astype('datetime64')\n",
    "kurs_rupiah['harga'] = kurs_rupiah['harga'].str.replace(\" IDR\",\"\")\n",
    "kurs_rupiah['harga'] = kurs_rupiah['harga'].str.replace(\",\",\"\")\n",
    "kurs_rupiah['harga'] = kurs_rupiah['harga'].astype('float64')\n",
    "kurs_rupiah['harga'] = kurs_rupiah['harga'].round(2)\n",
    "kurs_rupiah.dtypes\n"
   ]
  },
  {
   "cell_type": "code",
   "execution_count": 10,
   "metadata": {},
   "outputs": [
    {
     "data": {
      "text/plain": [
       "<matplotlib.axes._subplots.AxesSubplot at 0x1aee3f4b700>"
      ]
     },
     "execution_count": 10,
     "metadata": {},
     "output_type": "execute_result"
    },
    {
     "data": {
      "image/png": "[encoded data removed]",
      "text/plain": [
       "<Figure size 432x288 with 1 Axes>"
      ]
     },
     "metadata": {
      "needs_background": "light"
     },
     "output_type": "display_data"
    }
   ],
   "source": [
    "import matplotlib as plt\n",
    "kurs_rupiah.plot(x = 'period')"
   ]
  },
  {
   "cell_type": "code",
   "execution_count": 9,
   "metadata": {},
   "outputs": [],
   "source": [
    "kurs_rupiah.to_csv('kursrupiah.csv')"
   ]
  },
  {
   "cell_type": "code",
   "execution_count": null,
   "metadata": {},
   "outputs": [],
   "source": []
  }
 ],
 "metadata": {
  "kernelspec": {
   "display_name": "Data Analytics",
   "language": "python",
   "name": "venv2"
  },
  "language_info": {
   "codemirror_mode": {
    "name": "ipython",
    "version": 3
   },
   "file_extension": ".py",
   "mimetype": "text/x-python",
   "name": "python",
   "nbconvert_exporter": "python",
   "pygments_lexer": "ipython3",
   "version": "3.8.5"
  }
 },
 "nbformat": 4,
 "nbformat_minor": 4
}
